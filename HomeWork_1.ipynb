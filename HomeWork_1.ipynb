{
  "nbformat": 4,
  "nbformat_minor": 0,
  "metadata": {
    "colab": {
      "provenance": [],
      "authorship_tag": "ABX9TyNeuyx2B7SepmjZNZJ1CcU+",
      "include_colab_link": true
    },
    "kernelspec": {
      "name": "python3",
      "display_name": "Python 3"
    },
    "language_info": {
      "name": "python"
    }
  },
  "cells": [
    {
      "cell_type": "markdown",
      "metadata": {
        "id": "view-in-github",
        "colab_type": "text"
      },
      "source": [
        "<a href=\"https://colab.research.google.com/github/AlexeyTri/Seminars_Med/blob/main/HomeWork_1.ipynb\" target=\"_parent\"><img src=\"https://colab.research.google.com/assets/colab-badge.svg\" alt=\"Open In Colab\"/></a>"
      ]
    },
    {
      "cell_type": "markdown",
      "source": [
        "Загрузите датасет"
      ],
      "metadata": {
        "id": "D-Yxy_tWD5gH"
      }
    },
    {
      "cell_type": "code",
      "execution_count": 1,
      "metadata": {
        "id": "Bng0wWVH9bcA"
      },
      "outputs": [],
      "source": [
        "import pandas as pd"
      ]
    },
    {
      "cell_type": "code",
      "source": [
        "#впишите код"
      ],
      "metadata": {
        "id": "ImFo9XEQFlGF"
      },
      "execution_count": 33,
      "outputs": []
    },
    {
      "cell_type": "markdown",
      "source": [
        "Сформируйте столбец ECG_TIME_DATE, в котором объедение время, указанное в толбце eeg_time и eeg_date"
      ],
      "metadata": {
        "id": "2P5PXQQBD-c8"
      }
    },
    {
      "cell_type": "code",
      "source": [
        "#впишите код"
      ],
      "metadata": {
        "id": "NM5Caea_E6Ei"
      },
      "execution_count": null,
      "outputs": []
    },
    {
      "cell_type": "markdown",
      "source": [
        "Оформите график количества проведенных исследований Count_subj ЭКГ по годам"
      ],
      "metadata": {
        "id": "IkbMleD4E9rO"
      }
    },
    {
      "cell_type": "code",
      "source": [
        "#впишите ваш код"
      ],
      "metadata": {
        "id": "uSgA6nIFFIBA"
      },
      "execution_count": null,
      "outputs": []
    },
    {
      "cell_type": "markdown",
      "source": [
        "Постройте scatter_plot показывающей распеределение классов 0,1 (больной, здоровый) по двум параметрам: t_end, t_axis.\n",
        "Какие выводы можно сделать из получившегося графика?"
      ],
      "metadata": {
        "id": "ZdPS7FjxGxek"
      }
    },
    {
      "cell_type": "code",
      "source": [
        "#впишите ваш код"
      ],
      "metadata": {
        "id": "LkzF9Ad8HREZ"
      },
      "execution_count": null,
      "outputs": []
    },
    {
      "cell_type": "markdown",
      "source": [
        "**Основная задача**\n",
        "\n",
        "При помощи простейшей модели нейросети (см. семинар №2), научиться определять больного и здорового пациента.\n",
        "Для выполнения данной задачи не все данные в датасете подойдут.\n",
        "Для определения классов использовать столбец Healthy_Status.\n",
        "Для определения параметров столбцы: rr_interval, pp_onset, p_end, qrs_onset, qrs_end, t_end, p_axis, qrs_axis, t_axis"
      ],
      "metadata": {
        "id": "InCWbUewHcUr"
      }
    },
    {
      "cell_type": "code",
      "source": [
        "#впишите ваш код"
      ],
      "metadata": {
        "id": "tjB4ZgNILXwE"
      },
      "execution_count": null,
      "outputs": []
    },
    {
      "cell_type": "markdown",
      "source": [
        "После обучения модели добавьте столбец filtering к параметрам, на сколько изменилось качество?"
      ],
      "metadata": {
        "id": "0NuBPy-WLYgv"
      }
    },
    {
      "cell_type": "code",
      "source": [
        "#впишите ваш код"
      ],
      "metadata": {
        "id": "vIdOkj5uLl35"
      },
      "execution_count": null,
      "outputs": []
    },
    {
      "cell_type": "markdown",
      "source": [
        "Задача: выполните нормализацию данных. Обучите модель, на сколько улучшилось качество обучения?"
      ],
      "metadata": {
        "id": "Yi6Z3VybLoSt"
      }
    },
    {
      "cell_type": "code",
      "source": [
        "#впишите ваш код"
      ],
      "metadata": {
        "id": "MH53IZhkLnXL"
      },
      "execution_count": null,
      "outputs": []
    },
    {
      "cell_type": "markdown",
      "source": [
        "Сохраните коэффициенты вашей лучшей модели в отдельный файлы и залейте его на GITHUB, в соотвтетсвующем коммите напишите сови Фамилию Имя, номер группы"
      ],
      "metadata": {
        "id": "Tvu_Z_V4MCDd"
      }
    },
    {
      "cell_type": "code",
      "source": [
        "#впишите ваш код"
      ],
      "metadata": {
        "id": "faZBqDEZMTdV"
      },
      "execution_count": null,
      "outputs": []
    }
  ]
}